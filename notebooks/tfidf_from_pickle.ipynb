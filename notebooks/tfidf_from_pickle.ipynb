{
 "cells": [
  {
   "cell_type": "code",
   "execution_count": 19,
   "id": "7873d5ef-911d-4fe0-8cee-8f8c5d9172bf",
   "metadata": {},
   "outputs": [],
   "source": [
    "import pickle\n",
    "import spacy\n",
    "import numpy as np\n",
    "import pandas as pd\n",
    "from functools import partial\n",
    "\n",
    "nlp = spacy.load('en_core_web_sm', parser=True)\n",
    "\n",
    "\n",
    "def tokenize(text):\n",
    "    doc = nlp(text)\n",
    "    tokens = [token for token in doc if not token.is_stop]\n",
    "    tokens = [token for token in tokens if token.pos_ not in ['PUNCT','SYM','NUM','PART','SPACE']]\n",
    "    tokens = [token for token in tokens if token.text not in [\n",
    "        \"n't\",\"'h\",'m','wh','%','rt',\"'s\",\"'ve\",\"'ll\",'’re',\n",
    "        \"'m\",'&',\"'ve\",\"'re\",'’ve','’ll','’s','’m','n’t','s.','c.','f.','m.'\n",
    "    ]]\n",
    "    tokens = [token.lemma_ for token in tokens]\n",
    "    return tokens\n",
    "\n",
    "\n",
    "def top_n_important_tokens(text, tfidf, n):\n",
    "    \n",
    "    def get_feature(i, elements):\n",
    "        return elements[i]\n",
    "    \n",
    "    feature_names = np.array(tfidf.get_feature_names())\n",
    "    vector = tfidf.transform([text])\n",
    "    importance = vector.toarray()[0]\n",
    "    tfidf_sorting = np.argsort(vector.toarray()).flatten()[::-1]\n",
    "\n",
    "    get_features_word = partial(get_feature, elements=feature_names)\n",
    "    get_features_importance = partial(get_feature, elements=importance)\n",
    "\n",
    "    df = pd.DataFrame()\n",
    "    df['words'] = list(map(get_features_word, tfidf_sorting))[:n]\n",
    "    df['importance'] = list(map(get_features_importance, tfidf_sorting))[:n]\n",
    "    \n",
    "    return df\n",
    "\n",
    "\n",
    "\n",
    "with open(r\"tfidf.pk1\", \"rb\") as input_file:\n",
    "    tfidf = pickle.load(input_file)"
   ]
  },
  {
   "cell_type": "code",
   "execution_count": 20,
   "id": "36589192-41ac-42db-8245-f4274d5bf9b9",
   "metadata": {},
   "outputs": [
    {
     "data": {
      "text/plain": [
       "<1x36769 sparse matrix of type '<class 'numpy.float64'>'\n",
       "\twith 1 stored elements in Compressed Sparse Row format>"
      ]
     },
     "execution_count": 20,
     "metadata": {},
     "output_type": "execute_result"
    }
   ],
   "source": [
    "tfidf.transform(['hi what aboout this'])"
   ]
  },
  {
   "cell_type": "code",
   "execution_count": 23,
   "id": "d685aa0e-95fc-4558-bd7d-5023e1ee35a5",
   "metadata": {},
   "outputs": [],
   "source": [
    "test = 'Face coverings are no longer compulsory in schools in England or Wales, although they are recommended in crowded spaces like school buses. However, Education Secretary Nadhim Zahawi said mask-wearing could be brought back in England under winter contingency plans. Schools in Cambridgeshire have been asked to reintroduce face coverings after cases surged. Local health officials also recommended that staff resume social distancing within school buildings. They said staff meetings and non-essential events with parents should be held virtually where possible. In Scotland, face coverings are required at least until October half-term. In Northern Ireland, are required in class for at least the first six weeks of term.'"
   ]
  },
  {
   "cell_type": "code",
   "execution_count": 24,
   "id": "d0baf8a4-c55e-4228-acc8-b48505407418",
   "metadata": {},
   "outputs": [
    {
     "data": {
      "text/html": [
       "<div>\n",
       "<style scoped>\n",
       "    .dataframe tbody tr th:only-of-type {\n",
       "        vertical-align: middle;\n",
       "    }\n",
       "\n",
       "    .dataframe tbody tr th {\n",
       "        vertical-align: top;\n",
       "    }\n",
       "\n",
       "    .dataframe thead th {\n",
       "        text-align: right;\n",
       "    }\n",
       "</style>\n",
       "<table border=\"1\" class=\"dataframe\">\n",
       "  <thead>\n",
       "    <tr style=\"text-align: right;\">\n",
       "      <th></th>\n",
       "      <th>words</th>\n",
       "      <th>importance</th>\n",
       "    </tr>\n",
       "  </thead>\n",
       "  <tbody>\n",
       "    <tr>\n",
       "      <th>0</th>\n",
       "      <td>covering</td>\n",
       "      <td>0.502263</td>\n",
       "    </tr>\n",
       "    <tr>\n",
       "      <th>1</th>\n",
       "      <td>recommend</td>\n",
       "      <td>0.253384</td>\n",
       "    </tr>\n",
       "    <tr>\n",
       "      <th>2</th>\n",
       "      <td>school</td>\n",
       "      <td>0.219476</td>\n",
       "    </tr>\n",
       "    <tr>\n",
       "      <th>3</th>\n",
       "      <td>wearing</td>\n",
       "      <td>0.211263</td>\n",
       "    </tr>\n",
       "    <tr>\n",
       "      <th>4</th>\n",
       "      <td>contingency</td>\n",
       "      <td>0.211263</td>\n",
       "    </tr>\n",
       "  </tbody>\n",
       "</table>\n",
       "</div>"
      ],
      "text/plain": [
       "         words  importance\n",
       "0     covering    0.502263\n",
       "1    recommend    0.253384\n",
       "2       school    0.219476\n",
       "3      wearing    0.211263\n",
       "4  contingency    0.211263"
      ]
     },
     "execution_count": 24,
     "metadata": {},
     "output_type": "execute_result"
    }
   ],
   "source": [
    "top_n_important_tokens(test, tfidf, 5)"
   ]
  },
  {
   "cell_type": "code",
   "execution_count": null,
   "id": "9a14e6c5-dc84-4e05-8a25-aacabbc27001",
   "metadata": {},
   "outputs": [],
   "source": []
  }
 ],
 "metadata": {
  "kernelspec": {
   "display_name": "Python 3 (ipykernel)",
   "language": "python",
   "name": "python3"
  },
  "language_info": {
   "codemirror_mode": {
    "name": "ipython",
    "version": 3
   },
   "file_extension": ".py",
   "mimetype": "text/x-python",
   "name": "python",
   "nbconvert_exporter": "python",
   "pygments_lexer": "ipython3",
   "version": "3.7.11"
  }
 },
 "nbformat": 4,
 "nbformat_minor": 5
}
