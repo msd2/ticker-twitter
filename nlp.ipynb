{
 "cells": [
  {
   "cell_type": "code",
   "execution_count": 16,
   "id": "01f1811a-c4c2-4dd0-a022-41f3d25fe523",
   "metadata": {},
   "outputs": [],
   "source": [
    "from app.scrape_functions import read_from_bucket\n",
    "import pandas as pd\n",
    "from google.cloud import storage\n",
    "import spacy\n",
    "from spacy.pipeline import merge_noun_chunks, merge_entities\n",
    "from datetime import date\n",
    "from collections import defaultdict\n",
    "\n",
    "nlp = spacy.load('en_core_web_sm', parser=True)"
   ]
  },
  {
   "cell_type": "markdown",
   "id": "cbcbaac0-42bc-4f66-9e1c-bb032c4c0028",
   "metadata": {},
   "source": [
    "## Import data from GCP bucket"
   ]
  },
  {
   "cell_type": "code",
   "execution_count": 7,
   "id": "2977b172-140e-4a9b-9a42-92202fca9404",
   "metadata": {},
   "outputs": [],
   "source": [
    "bucket_name = 'uk-gov-tweets-14289'\n",
    "storage_client = storage.Client.from_service_account_json('app/creds.json')\n",
    "bucket = storage_client.get_bucket(bucket_name)\n",
    "data = read_from_bucket(bucket=bucket)"
   ]
  },
  {
   "cell_type": "markdown",
   "id": "b07921e6-3c60-4c7d-8b91-0302e9a317b5",
   "metadata": {},
   "source": [
    "## Data cleaning"
   ]
  },
  {
   "cell_type": "code",
   "execution_count": 8,
   "id": "0c120039-f2a0-4239-9be8-b8a47520a715",
   "metadata": {},
   "outputs": [],
   "source": [
    "data['date'] = data['created'].apply(lambda x: x[:10])\n",
    "data['date'] = pd.to_datetime(data['date'])"
   ]
  },
  {
   "cell_type": "code",
   "execution_count": 9,
   "id": "098ce159-4f4a-44f5-8dc6-6bb954a98fbe",
   "metadata": {},
   "outputs": [
    {
     "data": {
      "text/html": [
       "<div>\n",
       "<style scoped>\n",
       "    .dataframe tbody tr th:only-of-type {\n",
       "        vertical-align: middle;\n",
       "    }\n",
       "\n",
       "    .dataframe tbody tr th {\n",
       "        vertical-align: top;\n",
       "    }\n",
       "\n",
       "    .dataframe thead th {\n",
       "        text-align: right;\n",
       "    }\n",
       "</style>\n",
       "<table border=\"1\" class=\"dataframe\">\n",
       "  <thead>\n",
       "    <tr style=\"text-align: right;\">\n",
       "      <th></th>\n",
       "      <th>id</th>\n",
       "      <th>text</th>\n",
       "      <th>created</th>\n",
       "      <th>user</th>\n",
       "      <th>date</th>\n",
       "    </tr>\n",
       "  </thead>\n",
       "  <tbody>\n",
       "    <tr>\n",
       "      <th>0</th>\n",
       "      <td>1439706594888007683</td>\n",
       "      <td>This week at #UNGA I will be making the case t...</td>\n",
       "      <td>2021-09-19 21:42:55</td>\n",
       "      <td>Boris Johnson</td>\n",
       "      <td>2021-09-19</td>\n",
       "    </tr>\n",
       "    <tr>\n",
       "      <th>1</th>\n",
       "      <td>1439693329281818631</td>\n",
       "      <td>It was an honour to present the Groundbreaking...</td>\n",
       "      <td>2021-09-19 20:50:12</td>\n",
       "      <td>Boris Johnson</td>\n",
       "      <td>2021-09-19</td>\n",
       "    </tr>\n",
       "    <tr>\n",
       "      <th>2</th>\n",
       "      <td>1439630463988125700</td>\n",
       "      <td>Our heroic NHS staff have done an incredible j...</td>\n",
       "      <td>2021-09-19 16:40:24</td>\n",
       "      <td>Boris Johnson</td>\n",
       "      <td>2021-09-19</td>\n",
       "    </tr>\n",
       "    <tr>\n",
       "      <th>3</th>\n",
       "      <td>1439546304233934858</td>\n",
       "      <td>Sad to hear the news about Jimmy Greaves.\\n\\nH...</td>\n",
       "      <td>2021-09-19 11:05:59</td>\n",
       "      <td>Boris Johnson</td>\n",
       "      <td>2021-09-19</td>\n",
       "    </tr>\n",
       "    <tr>\n",
       "      <th>4</th>\n",
       "      <td>1439534497788317699</td>\n",
       "      <td>There are just two weeks to go until Conservat...</td>\n",
       "      <td>2021-09-19 10:19:04</td>\n",
       "      <td>Boris Johnson</td>\n",
       "      <td>2021-09-19</td>\n",
       "    </tr>\n",
       "  </tbody>\n",
       "</table>\n",
       "</div>"
      ],
      "text/plain": [
       "                    id                                               text  \\\n",
       "0  1439706594888007683  This week at #UNGA I will be making the case t...   \n",
       "1  1439693329281818631  It was an honour to present the Groundbreaking...   \n",
       "2  1439630463988125700  Our heroic NHS staff have done an incredible j...   \n",
       "3  1439546304233934858  Sad to hear the news about Jimmy Greaves.\\n\\nH...   \n",
       "4  1439534497788317699  There are just two weeks to go until Conservat...   \n",
       "\n",
       "               created           user       date  \n",
       "0  2021-09-19 21:42:55  Boris Johnson 2021-09-19  \n",
       "1  2021-09-19 20:50:12  Boris Johnson 2021-09-19  \n",
       "2  2021-09-19 16:40:24  Boris Johnson 2021-09-19  \n",
       "3  2021-09-19 11:05:59  Boris Johnson 2021-09-19  \n",
       "4  2021-09-19 10:19:04  Boris Johnson 2021-09-19  "
      ]
     },
     "execution_count": 9,
     "metadata": {},
     "output_type": "execute_result"
    }
   ],
   "source": [
    "data.head()"
   ]
  },
  {
   "cell_type": "markdown",
   "id": "e78150cc-75fe-4c13-81a2-3cf2a79c6724",
   "metadata": {},
   "source": [
    "## Data pre-processing"
   ]
  },
  {
   "cell_type": "code",
   "execution_count": 58,
   "id": "d9868857-2854-4118-adc4-e16397be7a48",
   "metadata": {},
   "outputs": [],
   "source": [
    "# New stop words list \n",
    "customize_stop_words = [\n",
    "    'RT'\n",
    "]\n",
    "\n",
    "# Mark them as stop words\n",
    "for w in customize_stop_words:\n",
    "    nlp.vocab[w].is_stop = True\n",
    "\n",
    "def process_tweet(text):\n",
    "    doc = nlp(text)\n",
    "    \n",
    "    # Tokenize text, lemmatize, remove stopwords\n",
    "    tokens = [token for token in merge_noun_chunks(doc) if not token.is_stop and not token.is_punct]    \n",
    "    return tokens"
   ]
  },
  {
   "cell_type": "code",
   "execution_count": 60,
   "id": "5ff816b7-80e2-4fa3-8859-756f09189818",
   "metadata": {},
   "outputs": [
    {
     "data": {
      "text/plain": [
       "[The UK,\n",
       " the UAE,\n",
       " share,\n",
       " a long and rich history,\n",
       " His Highness,\n",
       " @MohamedBinZayed,\n",
       " I,\n",
       " focused,\n",
       " the future,\n",
       " https://t.co/4DBGZTvaM1]"
      ]
     },
     "execution_count": 60,
     "metadata": {},
     "output_type": "execute_result"
    }
   ],
   "source": [
    "tweet = data.loc[11, 'text']\n",
    "process_tweet(tweet)"
   ]
  },
  {
   "cell_type": "code",
   "execution_count": 27,
   "id": "a4bb673e-42ec-4ea9-98b1-29ea4a59b32d",
   "metadata": {},
   "outputs": [
    {
     "name": "stdout",
     "output_type": "stream",
     "text": [
      "4/\n",
      "The\n",
      "NHS\n",
      "will\n",
      "continue\n",
      "to\n",
      "get\n",
      "the\n",
      "support\n",
      "it\n",
      "needs\n",
      ",\n",
      "with\n",
      "an\n",
      "extra\n",
      "£\n",
      "5.4bn\n",
      "in\n",
      "England\n",
      "for\n",
      "the next six months\n",
      "alone\n",
      "…\n",
      "https://t.co/AwtWsjy0bp\n"
     ]
    }
   ],
   "source": [
    "tweet = data.loc[18, 'text']\n",
    "for token in merge_entities(nlp(tweet)):\n",
    "    print(token.text)"
   ]
  },
  {
   "cell_type": "markdown",
   "id": "7abd049f-6377-412e-88dc-aaff12f8a8d1",
   "metadata": {},
   "source": [
    "Todos:\n",
    "* Tokenize\n",
    "* Remove 'RT' retweet\n",
    "* Remove stopwords\n",
    "* Lemmatize"
   ]
  },
  {
   "cell_type": "markdown",
   "id": "34bf826d-db39-4899-8b3d-ea74a8eb72ae",
   "metadata": {},
   "source": [
    "## Entity Extraction Block"
   ]
  },
  {
   "cell_type": "code",
   "execution_count": 63,
   "id": "ff0c5277-1f45-4c25-86a0-59068cf208c4",
   "metadata": {},
   "outputs": [],
   "source": [
    "def extract_entities(text):\n",
    "    doc = nlp(text)\n",
    "    return [ent.text for ent in doc.ents]"
   ]
  },
  {
   "cell_type": "code",
   "execution_count": 52,
   "id": "f8784f2c-1eb1-485a-b48e-98dd34225c48",
   "metadata": {},
   "outputs": [
    {
     "data": {
      "text/html": [
       "<div>\n",
       "<style scoped>\n",
       "    .dataframe tbody tr th:only-of-type {\n",
       "        vertical-align: middle;\n",
       "    }\n",
       "\n",
       "    .dataframe tbody tr th {\n",
       "        vertical-align: top;\n",
       "    }\n",
       "\n",
       "    .dataframe thead th {\n",
       "        text-align: right;\n",
       "    }\n",
       "</style>\n",
       "<table border=\"1\" class=\"dataframe\">\n",
       "  <thead>\n",
       "    <tr style=\"text-align: right;\">\n",
       "      <th></th>\n",
       "      <th>date</th>\n",
       "      <th>user</th>\n",
       "      <th>entity</th>\n",
       "      <th>label</th>\n",
       "    </tr>\n",
       "  </thead>\n",
       "  <tbody>\n",
       "    <tr>\n",
       "      <th>0</th>\n",
       "      <td>2021-09-19</td>\n",
       "      <td>Boris Johnson</td>\n",
       "      <td>This week</td>\n",
       "      <td>DATE</td>\n",
       "    </tr>\n",
       "    <tr>\n",
       "      <th>1</th>\n",
       "      <td>2021-09-19</td>\n",
       "      <td>Boris Johnson</td>\n",
       "      <td>UNGA</td>\n",
       "      <td>ORG</td>\n",
       "    </tr>\n",
       "    <tr>\n",
       "      <th>2</th>\n",
       "      <td>2021-09-19</td>\n",
       "      <td>Boris Johnson</td>\n",
       "      <td>NHS</td>\n",
       "      <td>ORG</td>\n",
       "    </tr>\n",
       "    <tr>\n",
       "      <th>3</th>\n",
       "      <td>2021-09-19</td>\n",
       "      <td>Boris Johnson</td>\n",
       "      <td>Jimmy Greaves</td>\n",
       "      <td>PERSON</td>\n",
       "    </tr>\n",
       "    <tr>\n",
       "      <th>4</th>\n",
       "      <td>2021-09-19</td>\n",
       "      <td>Boris Johnson</td>\n",
       "      <td>one</td>\n",
       "      <td>CARDINAL</td>\n",
       "    </tr>\n",
       "  </tbody>\n",
       "</table>\n",
       "</div>"
      ],
      "text/plain": [
       "        date           user         entity     label\n",
       "0 2021-09-19  Boris Johnson      This week      DATE\n",
       "1 2021-09-19  Boris Johnson           UNGA       ORG\n",
       "2 2021-09-19  Boris Johnson            NHS       ORG\n",
       "3 2021-09-19  Boris Johnson  Jimmy Greaves    PERSON\n",
       "4 2021-09-19  Boris Johnson            one  CARDINAL"
      ]
     },
     "execution_count": 52,
     "metadata": {},
     "output_type": "execute_result"
    }
   ],
   "source": [
    "data['entities'] = data['text'].apply(extract_entities)\n",
    "\n",
    "d = defaultdict(list)\n",
    "for i, row in data.iterrows():\n",
    "    for entity in row['entities']:\n",
    "        if entity.text==\"\":\n",
    "            pass\n",
    "        else:\n",
    "            d['date'].append(row['date'])\n",
    "            d['user'].append(row['user'])\n",
    "            d['entity'].append(entity.text)\n",
    "            d['label'].append(entity.label_)\n",
    "entities = pd.DataFrame(d)\n",
    "entities.head()"
   ]
  }
 ],
 "metadata": {
  "kernelspec": {
   "display_name": "Python 3 (ipykernel)",
   "language": "python",
   "name": "python3"
  },
  "language_info": {
   "codemirror_mode": {
    "name": "ipython",
    "version": 3
   },
   "file_extension": ".py",
   "mimetype": "text/x-python",
   "name": "python",
   "nbconvert_exporter": "python",
   "pygments_lexer": "ipython3",
   "version": "3.7.11"
  }
 },
 "nbformat": 4,
 "nbformat_minor": 5
}
